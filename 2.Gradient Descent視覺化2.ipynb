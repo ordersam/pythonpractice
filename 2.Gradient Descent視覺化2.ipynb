{
 "cells": [
  {
   "cell_type": "markdown",
   "metadata": {},
   "source": [
    "# 本檔案可直接jupyter執行(不用另存py檔案)"
   ]
  },
  {
   "cell_type": "code",
   "execution_count": 2,
   "metadata": {},
   "outputs": [
    {
     "name": "stdout",
     "output_type": "stream",
     "text": [
      "49.719295937277124 96.21251236697476\n"
     ]
    },
    {
     "data": {
      "text/html": [
       "<img src=\"gd.gif\"/>"
      ],
      "text/plain": [
       "<IPython.core.display.Image object>"
      ]
     },
     "execution_count": 2,
     "metadata": {},
     "output_type": "execute_result"
    }
   ],
   "source": [
    "# 關閉不顯示圖檔的UserWarning\n",
    "import warnings\n",
    "warnings.filterwarnings('ignore')\n",
    "# 梯度遞減演算法 視覺化(梯度遞減動畫 不能用notebook開 否則不會有動畫效果)\n",
    "import matplotlib\n",
    "matplotlib.use('agg')\n",
    "import matplotlib.pyplot as plt\n",
    "from matplotlib.pyplot import figure\n",
    "from sklearn.datasets import make_regression\n",
    "import numpy as np\n",
    "\n",
    "# 動畫gif\n",
    "import matplotlib.animation as animation\n",
    "# 圖片序列\n",
    "ims = []\n",
    "\n",
    "# 產生圖形大小\n",
    "fig, ax = plt.subplots()\n",
    "fig.set_size_inches(14, 8)\n",
    "# 產生100筆隨機資料繪圖\n",
    "X, y = make_regression(n_samples=100, n_features=1, noise=5, bias=50)\n",
    "    # 打平 (100, 1) 轉成 (100,) 與y相同\n",
    "X = X.ravel()\n",
    "plt.scatter(X, y)\n",
    "    # y=0的水平線\n",
    "im = ax.plot(X, [0] * len(X), 'g')\n",
    "ims.append(im)\n",
    "\n",
    "# 隨機指定迴歸線 權重(Weights)及偏差(Bias)\n",
    "b0 = np.random.rand()\n",
    "b1 = np.random.rand()\n",
    "\n",
    "# 求預測值(Y hat)：y = f(X) = b1 * X + b0\n",
    "def calc_forecast(b0, b1, X):\n",
    "    return b0 + (b1 * X) \n",
    "\n",
    "# 計算損失函數 = sum( (yi_hat - yi)^2 ) / len(X)\n",
    "def calc_loss(b0, b1, X, y):\n",
    "    lossValue = 0\n",
    "    for (xi, yi) in zip(X, y):\n",
    "        # print(type(b0), type(b1), type(xi))      \n",
    "        lossValue += 1/len(X) * ((calc_forecast(b0, b1, xi) - yi) ** 2)\n",
    "    return lossValue\n",
    "\n",
    "# 偏微分，求gradient\n",
    "def derivatives(b0, b1, X, y):\n",
    "    # 避免python殘留值影響，每次gradient之前先歸零\n",
    "    b0_offset = 0\n",
    "    b1_offset = 0\n",
    "    for (xi, yi) in zip(X, y):\n",
    "        b0_offset += calc_forecast(b0, b1, xi) - yi\n",
    "        b1_offset += (calc_forecast(b0, b1, xi) - yi) * xi\n",
    "    b0_offset /= len(X)\n",
    "    b1_offset /= len(X)\n",
    "    return b0_offset, b1_offset\n",
    "# gradient代入，更新權重\n",
    "def updateParameters(b0, b1, X, y, alpha):\n",
    "    b0_offset, b1_offset = derivatives(b0, b1, X, y)\n",
    "    b0 = b0 - (alpha * b0_offset)\n",
    "    b1 = b1 - (alpha * b1_offset)\n",
    "    return b0, b1\n",
    "\n",
    "# 學習率\n",
    "LEARNING_RATE = 0.005\n",
    "# 損失函數與前一次的差異設定值，小於設定值，就停止\n",
    "ERROR_TOLERENCE = 0.01\n",
    "# 圖形更新的頻率(暫停幾秒)\n",
    "PAUSE_INTERVAL = 0.5\n",
    "\n",
    "# 主程式\n",
    "i = 0\n",
    "prev_loss = 999999999999.\n",
    "while True:\n",
    "    # 每一百次 更新圖形Y軸資料，重新設定圖形的迴歸線\n",
    "    if i % 100 == 0:\n",
    "        y_new = [b0 + b1 * xplot for xplot in X]\n",
    "        im = ax.plot(X, y_new, 'g')\n",
    "        ims.append(im)\n",
    "        plt.pause(PAUSE_INTERVAL)\n",
    "    # 設定 更新前後loss差距 > ERROR_TOLERENCE 就一直更新下去\n",
    "    current_loss = calc_loss(b0, b1, X, y)\n",
    "    if prev_loss - current_loss > ERROR_TOLERENCE:\n",
    "        b0, b1 = updateParameters(b0, b1, X, y, LEARNING_RATE)\n",
    "        prev_loss = current_loss\n",
    "    else:\n",
    "        print(b0, b1)\n",
    "        break\n",
    "    i += 1\n",
    "\n",
    "ani = animation.ArtistAnimation(fig, ims, interval=200, repeat_delay=1000)\n",
    "ani.save(\"gd.gif\", writer='pillow')\n",
    "\n",
    "# 顯示動畫圖檔\n",
    "from IPython.display import Image\n",
    "Image(url='gd.gif')"
   ]
  }
 ],
 "metadata": {
  "kernelspec": {
   "display_name": "Python 3",
   "language": "python",
   "name": "python3"
  },
  "language_info": {
   "codemirror_mode": {
    "name": "ipython",
    "version": 3
   },
   "file_extension": ".py",
   "mimetype": "text/x-python",
   "name": "python",
   "nbconvert_exporter": "python",
   "pygments_lexer": "ipython3",
   "version": "3.7.6"
  }
 },
 "nbformat": 4,
 "nbformat_minor": 4
}
